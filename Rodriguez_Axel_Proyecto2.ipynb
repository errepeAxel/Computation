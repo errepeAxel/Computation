{
  "nbformat": 4,
  "nbformat_minor": 0,
  "metadata": {
    "colab": {
      "provenance": [],
      "toc_visible": true,
      "include_colab_link": true
    },
    "kernelspec": {
      "name": "python3",
      "display_name": "Python 3"
    },
    "language_info": {
      "name": "python"
    }
  },
  "cells": [
    {
      "cell_type": "markdown",
      "metadata": {
        "id": "view-in-github",
        "colab_type": "text"
      },
      "source": [
        "<a href=\"https://colab.research.google.com/github/errepeAxel/Computation/blob/main/Rodriguez_Axel_Proyecto2.ipynb\" target=\"_parent\"><img src=\"https://colab.research.google.com/assets/colab-badge.svg\" alt=\"Open In Colab\"/></a>"
      ]
    },
    {
      "cell_type": "markdown",
      "source": [
        "# Proyecto 2: Raices de Ecuaciones, Interpolación y Aproximación Funcional, Sistemas Simultáneos de Ecuaciones Lineales, Integración Numérica y Ecuaciones Diferenciales"
      ],
      "metadata": {
        "id": "q6w2pnAeiZrv"
      }
    },
    {
      "cell_type": "markdown",
      "source": [
        "30/05/2022\n",
        "\n",
        "Por Rodriguez Pérez Axel.\n",
        "\n",
        "Segundo semestre de la Licenciatura en Ciencias Genómicas, campus Juriquilla.\n",
        "\n",
        "2022-2"
      ],
      "metadata": {
        "id": "u6r54A2ExT1f"
      }
    },
    {
      "cell_type": "markdown",
      "source": [
        "# Raices de Ecuaciones: Regula falsi"
      ],
      "metadata": {
        "id": "M_PxFL9VOfVp"
      }
    },
    {
      "cell_type": "markdown",
      "source": [
        "Fórmulas importantes:\n",
        "- $c_k = \\frac{f(b_k)a_k - f(a_k)b_k}{f(bk) - f(a_k)}$"
      ],
      "metadata": {
        "id": "Np_7CdennwCh"
      }
    },
    {
      "cell_type": "code",
      "source": [
        "# Proyecto 2: Metodos numericos\n",
        "# Rodriguez Perez Axel\n",
        "# Licenciatura en Ciencias Genomicas, semestre 2022-2\n",
        "# Objetivo: Para una funcion dada, encontrar una solucion para la ecuacion f(x)=0\n",
        "\n",
        "# LIBRERIAS -------------------------------------\n",
        "import numpy as np\n",
        "import math as mt\n",
        "from math import e\n",
        "from math import *\n",
        "\n",
        "\n",
        "# DEFINICION DE LA FUNCION ---------------------------------------\n",
        "function = input(\"Ingrese la funcion: \")\n",
        "\n",
        "def f(x):\n",
        "  \"\"\"\n",
        "  Declaracion de funcion\n",
        "  :param x: valor con el que se evaluara una funcion\n",
        "  \"\"\"\n",
        "  return eval(function)\n",
        "\n",
        "# ENCONTRAR INTERVALOS ------------------------------\n",
        "x0 = 0\n",
        "x1 = 1\n",
        "intentos = 0  # Variable auxiliar para formar tope\n",
        "parar = 0  # Bandera que nos indica si debemos parar el codigo\n",
        "\n",
        "if f(x0) == 0:  # Verificar que la funcion no sea igual a cero evualuada en los intervalos iniciales\n",
        "  print(\"La solucion es {:.7f}\". format(x0))\n",
        "  parar = 1  # Si es asi, no necesitamos entrar al resto del codigo, ya encontramos la raiz\n",
        "else:\n",
        "  if f(x1) == 0:\n",
        "    print(\"La solucion es {:.7f}\". format(x1))\n",
        "    parar = 1\n",
        "  else:\n",
        "    if function.find(\"log\") != -1 or function.find(\"sqrt\") != -1: # Como no existe el logaritmo de 0 ni de numeros negativos, al igual que sus raices,\n",
        "      x0 = 0.1 # hacemos de x0 un valor valido\n",
        "      if f(x0) * f(x1) >= 0:\n",
        "        while f(x0) * f(x1) >= 0 or intentos < 1000:\n",
        "          # Aumenta el rango de busqueda de intervalo donde la funcion sea continua\n",
        "          x0 = x0+0.1\n",
        "          x1 = x1+0.1\n",
        "          intentos += 1\n",
        "    else:\n",
        "      if f(x0)*f(x1) >= 0:\n",
        "        while f(x0)*f(x1) >= 0 or intentos < 1000:\n",
        "          x0 = x0-0.1\n",
        "          x1 = x1+0.1\n",
        "          intentos +=1\n",
        "\n",
        "# Funcion regula falsi\n",
        "def metodo_regulafalsi(f, a, b, tol, n=100):\n",
        "  \"\"\"\n",
        "  Método de regula falsi\n",
        "  :param f: Funcion a la que se le intenta encontrar una solucion para la ecuacion f(x)=0\n",
        "  :param a: límite inferior\n",
        "  :param b: límite superior\n",
        "  :param tol: toleracia\n",
        "  :param n: número máximo de iteraciones\n",
        "  :return: solución exacta o aproximada\n",
        "  \"\"\"\n",
        "\n",
        "  e_abs = abs(b-a)\n",
        "  i = 1\n",
        "  c = (f(b)*a - f(a)*b)/(f(b) - f(a))  # Ecuacion general del metodo\n",
        "  while i <= n and e_abs > tol:\n",
        "    c_i = c\n",
        "    print('iteracion {:<2}: a_{:<2}={:.7f} , b_{:<2}={:.7f}, c_{:<2}={:.7f}'.format(i,i-1,a,i-1,b,i,c_i))\n",
        "    if f(c_i)==0:  # solución exacta encontrada\n",
        "      print('Solución encontrada x={:.7f}'. format(c_i))\n",
        "      return c_i\n",
        "    if f(a)*f(c)<0:  # escoger intervalo izquierdo\n",
        "      b = c_i\n",
        "    else:  # escoger intervalo derecho\n",
        "      a = c_i\n",
        "    c = (f(b)*a - f(a)*b)/(f(b) - f(a))\n",
        "    e_abs = abs(c_i - c)  # error absoluto\n",
        "    if e_abs < tol:  # criterio de parada: si el error absoluto es menor a la tolerancia\n",
        "      print('Solución encontrada x= {:.7f}, iteraciones: {}'. format(c,i))\n",
        "      return c\n",
        "    i += 1\n",
        "  print('Solución no encontrada, iteraciones agotadas: {}'.format(i-1))\n",
        "  return None\n",
        "\n",
        "\n",
        "if intentos >= 1000:\n",
        "  print(\"Por favor introduzca los valores de a y b de forma manual\")\n",
        "else:\n",
        "  if parar != 1:\n",
        "    print(f\"El valor de a es : {x0}\")\n",
        "    print(f\"El valor de b es : {x1}\")\n",
        "    # DEFINIR TOLERANCIA-----------------------------------------------\n",
        "    tolerancia = float(input(\"Ingrese el valor de tolerancia: \"))\n",
        "    # Llamar a la funcion\n",
        "    metodo_regulafalsi(f,x0,x1, tolerancia)\n"
      ],
      "metadata": {
        "colab": {
          "base_uri": "https://localhost:8080/"
        },
        "id": "UdTWtfyOuH_J",
        "outputId": "84247690-fd7a-4355-f34c-eef83855d90c"
      },
      "execution_count": null,
      "outputs": [
        {
          "output_type": "stream",
          "name": "stdout",
          "text": [
            "Ingrese la funcion: 5*x**2-mt.exp(x)\n",
            "El valor de a es : 0.1\n",
            "El valor de b es : 1\n",
            "Ingrese el valor de tolerancia: 0.000001\n",
            "iteracion 1 : a_0 =0.1000000 , b_0 =1.0000000, c_1 =0.3845926\n",
            "iteracion 2 : a_1 =0.3845926 , b_1 =1.0000000, c_2 =0.5336752\n",
            "iteracion 3 : a_2 =0.5336752 , b_2 =1.0000000, c_3 =0.5848303\n",
            "iteracion 4 : a_3 =0.5848303 , b_3 =1.0000000, c_4 =0.5996656\n",
            "iteracion 5 : a_4 =0.5996656 , b_4 =1.0000000, c_5 =0.6037494\n",
            "iteracion 6 : a_5 =0.6037494 , b_5 =1.0000000, c_6 =0.6048572\n",
            "iteracion 7 : a_6 =0.6048572 , b_6 =1.0000000, c_7 =0.6051565\n",
            "iteracion 8 : a_7 =0.6051565 , b_7 =1.0000000, c_8 =0.6052373\n",
            "iteracion 9 : a_8 =0.6052373 , b_8 =1.0000000, c_9 =0.6052591\n",
            "iteracion 10: a_9 =0.6052591 , b_9 =1.0000000, c_10=0.6052649\n",
            "iteracion 11: a_10=0.6052649 , b_10=1.0000000, c_11=0.6052665\n",
            "Solución encontrada x= 0.6052670, iteraciones: 11\n"
          ]
        },
        {
          "output_type": "execute_result",
          "data": {
            "text/plain": [
              "0.6052669631717454"
            ]
          },
          "metadata": {},
          "execution_count": 5
        }
      ]
    },
    {
      "cell_type": "markdown",
      "source": [
        "# Interpolación y Aproximación funcional: Interpolación de Lagrange"
      ],
      "metadata": {
        "id": "A2e6B2h56gLz"
      }
    },
    {
      "cell_type": "markdown",
      "source": [
        "Fórmulas importantes:\n",
        "- Para las **bases polinómicas**: $l_j(x) = \\prod_{i=0, i \\neq j}^k \\frac{x - x_i}{x_j - x_i} = \\frac{x - x_0}{x_j - x_0} ... \\frac{x - x_{j-1}}{x_j - x_{j-1}} \\frac{x- x_{j+1}}{x_j - x_{j-1}} ... \\frac{x - x_k}{x_j - x_k}$\n",
        "- Para el **polinomio interpolador**: $L(x) = \\sum_{j=0}^k y_j l_j(x)$"
      ],
      "metadata": {
        "id": "8R0lq6y0oaKs"
      }
    },
    {
      "cell_type": "code",
      "source": [
        "# Proyecto 2: Metodos numericos\n",
        "# Rodriguez Perez Axel\n",
        "# Licenciatura en Ciencias Genomicas, semestre 2022-2\n",
        "# Objetivo: Obtener el polinomio interpolador de lagrange de un conjunto de datos\n",
        "\n",
        "# LIBRERIAS\n",
        "import numpy as np\n",
        "import math as mt\n",
        "import sympy as sym\n",
        "import string\n",
        "from math import e\n",
        "from math import *\n",
        "\n",
        "# INPUT DE LOS DATOS -----------------------------------\n",
        "Numero_obs = int(input(\"Ingrese el número de datos registrados: \"))\n",
        "\n",
        "vect_X = [0] * Numero_obs  # Vector inicializado con ceros que almacenara los valores de cada x\n",
        "vect_Y = [0] * Numero_obs  # Vector inicializado con ceros que almacenara los valores de cada x\n",
        "\n",
        "# Registro de coordenadas\n",
        "for i in range(Numero_obs):\n",
        "    X_i = float(input(\"Inserte el valor en x de la observación {:<2}: \".format(i+1)))\n",
        "    Y_i = float(input(\"Inserte el valor en y de la observación {:<2}: \".format(i+1)))\n",
        "    vect_X[i] = (X_i)  # se almacena el valr de X_i en la i-esima posicion del vector de las x's\n",
        "    vect_Y[i] = (Y_i)  # se almacena el valr de Y_i en la i-esima posicion del vector de las y's\n",
        "\n",
        "x = sym.Symbol(\"x\")\n",
        "\n",
        "# DEFINICION DE LA FUNCION 'INTERPOLACION_LAGRANGE' ----------------------------------------------------\n",
        "def Interpolacion_Lagrange(variable, n_datos, vector_x, vector_y):\n",
        "    \"\"\"\n",
        "      Método de Interpolacion de Lagrange\n",
        "      :param variable: forma de la variable que se utiliza (generalmente x)\n",
        "      :param n_datos: numero de observaciones disponibles\n",
        "      :param vector_x: vector con todas las coordenadas del eje de las abscisas de los datos\n",
        "      :param vector_y: vector con todas las coordenadas del eje de las ordenadas de los datos\n",
        "      \"\"\"\n",
        "\n",
        "    # Construccion de las bases polinomicas simultaneas al polinomio interpolador\n",
        "    poli_int = 0  # Polimonio interpolador vacio\n",
        "    for j in range(n_datos):\n",
        "        numerador = 1\n",
        "        denominador = 1\n",
        "        # El numerador y denominador deben reiniciarse cada ciclo debido a que\n",
        "        # se evaluan distintas bases polinomicas\n",
        "        for i in range(n_datos):\n",
        "            if i != j:\n",
        "                numerador = numerador * (variable - vector_x[i])\n",
        "                denominador = denominador * (vector_x[j] - vector_x[i])\n",
        "                if denominador == 0:  #  Verificar que no haya divisiones entre cero\n",
        "                    print(\"Existe una división entre cero\")\n",
        "                    return (0)\n",
        "            base_pol = (numerador / denominador)  # Construccion de la base polinomica\n",
        "            base_pol2 = (numerador / denominador) * vector_y[j]  # Para la construccion del polinomio interpolador\n",
        "        poli_int = poli_int + base_pol2  # Construccion del polinomio interpolador\n",
        "        print(\"La base polinomica {} es: {}\".format(j+1, base_pol))\n",
        "\n",
        "    polinomio_int = sym.expand(poli_int)  # Se simplifica el polinomio\n",
        "    print(\"El polinomio interpolador de lagrange es \", polinomio_int)\n",
        "\n",
        "# VERIFICACION DE METODO ---------------------------------------\n",
        "if Numero_obs <= 1:  # Para hacer una interpolacion adecuada, se requiere de mas de un punto\n",
        "    print(\"Este metodo requiere de mas informacion, por favor ingrese mas datos.\")\n",
        "else:\n",
        "    rep = 0  # Bandera 'rep' para verificar que no existan dos valores de X iguales. Comienza apagada.\n",
        "    for i in range(Numero_obs):\n",
        "        for j in range(i + 1, Numero_obs):\n",
        "            if vect_X[i] == vect_X[j]:  # Si se encuentran dos valores de x iguales\n",
        "                rep = 1  # la bandera 'rep' se enciende\n",
        "                break\n",
        "    if rep != 1:  # Si rep no esta encendida (distinta de 1)\n",
        "        Interpolacion_Lagrange(x, Numero_obs, vect_X, vect_Y)   # Aplicamos la funcion del polinomio interpolador a los datos\n",
        "    else:\n",
        "        print(\"No se pueden ingresar distintos valores de Y para una misma X. Por favor verifique sus datos\")\n"
      ],
      "metadata": {
        "id": "OuvKPfEBfppJ",
        "colab": {
          "base_uri": "https://localhost:8080/"
        },
        "outputId": "8d672754-d5ee-4568-c49c-ddbe9188d2a6"
      },
      "execution_count": null,
      "outputs": [
        {
          "output_type": "stream",
          "name": "stdout",
          "text": [
            "Ingrese el número de datos registrados: 3\n",
            "Inserte el valor en x de la observación 1 : 0\n",
            "Inserte el valor en y de la observación 1 : 7\n",
            "Inserte el valor en x de la observación 2 : 3\n",
            "Inserte el valor en y de la observación 2 : 7\n",
            "Inserte el valor en x de la observación 3 : 6\n",
            "Inserte el valor en y de la observación 3 : 6\n",
            "La base polinomica 1 es: 0.0555555555555556*(x - 6.0)*(x - 3.0)\n",
            "La base polinomica 2 es: -0.111111111111111*x*(x - 6.0)\n",
            "La base polinomica 3 es: 0.0555555555555556*x*(x - 3.0)\n",
            "El polinomio interpolador de lagrange es  -0.0555555555555556*x**2 + 0.166666666666666*x + 7.0\n"
          ]
        }
      ]
    },
    {
      "cell_type": "markdown",
      "source": [
        "#  Integración numérica: Regla de Simpson 1/3"
      ],
      "metadata": {
        "id": "jdkyiC7lhHDT"
      }
    },
    {
      "cell_type": "markdown",
      "source": [
        "Fórmulas importantes:\n",
        "- $\\int^b_a f(x)dx \\approx \\frac{h}{3}[f(x_0) + 2 + \\sum^{\\frac{n}{2}-1}_{j=1} f(x_{2j-1}) + 4 \\sum^{\\frac{n}{2}}_{j=1} f(x_{2j-1)} + f(x_n)]$"
      ],
      "metadata": {
        "id": "w3ICw0a-qsn8"
      }
    },
    {
      "cell_type": "code",
      "source": [
        "# Proyecto 2: Metodos numericos\n",
        "# Rodriguez Perez Axel\n",
        "# Licenciatura en Ciencias Genomicas, semestre 2022-2\n",
        "# Objetivo: Obtener la integral aproximada de una funcion (su area bajo la curva)\n",
        "\n",
        "# LIBRERIAS -------------------------------------\n",
        "import numpy as np\n",
        "import math as mt\n",
        "from math import e\n",
        "from math import *\n",
        "from sympy import *\n",
        "import sympy as sym\n",
        "\n",
        "# DEFINICION DE LA FUNCION -------------------------------------\n",
        "function = input(\"Ingrese la funcion en terminos de x: \")\n",
        "\n",
        "def f(x):\n",
        "  \"\"\"\"\"\n",
        "  Declaracion de funcion\n",
        "  :param x: valor con el que se evaluara una funcion\n",
        "  \"\"\"\n",
        "  return eval(function)\n",
        "\n",
        "# DECLARACION DE FUNCION QUE IDENTIFICA ERRORES --------------------------\n",
        "def Errores(f):\n",
        "  \"\"\"\n",
        "  Funcion que identifica errores en ecuaciones\n",
        "  :param f: funcion a evaluar.\n",
        "  \"\"\"\n",
        "  x = sym.Symbol(\"x\")\n",
        "  try:\n",
        "    eval(f)\n",
        "  except ZeroDivisionError:  # Verifica que no exista una division sobre cero\n",
        "    print(\"Ecuacion invalida, tiene una division sobre cero\")\n",
        "    return 0\n",
        "  except ValueError: # Verifica que no exista una un valor no valido\n",
        "    print(\"Ecuacion invalida, tiene un valor no \")\n",
        "    return 0\n",
        "  except:  # Verifica que no exista alguna otra anomalia\n",
        "    print(\"Ecuacion no valida.\")\n",
        "    return 0\n",
        "\n",
        "# DECLARACION DE LA FUNCION 'REGLA_SIMPSON' ------------------------------------\n",
        "def Regla_Simpson(funcion):\n",
        "  \"\"\"\n",
        "    Método de integracion Regla de Simpson 1/3 compuesta\n",
        "    :param function: Funcion de la que se quiere saber su integral aproximada\n",
        "    \"\"\"\n",
        "  # Verificacion de errores\n",
        "  if Errores(funcion) == 0:\n",
        "    return 0\n",
        "\n",
        "  # Limites de la funcion\n",
        "  a = float(input(\"Limite inferiror de la funcion: \"))\n",
        "  b = float(input(\"Limite superior de la funcion: \"))\n",
        "  if a>b:\n",
        "    print(\"Por favor ingrese un intervalo valido\")\n",
        "    return None\n",
        "\n",
        "  # Subintervalos\n",
        "  n = int(input(\"Numero de subintervalos: \"))\n",
        "\n",
        "  # PROCESO\n",
        "  h = (b-a)/n\n",
        "  i = 1 # Contador de subintervalos\n",
        "  sum_pares = 0 # variable donde se aalmacenara el valor de la suma de las funciones con una x par\n",
        "  sum_non = 0 # variable donde se aalmacenara el valor de la suma de las funciones con una x no par\n",
        "  while i<n:\n",
        "    x = a + i*h\n",
        "    if (i%2==0): # Queremos evaluar cada 'x' con una i-esima posicion par\n",
        "      sum_pares += (2 * f(x))\n",
        "    else:\n",
        "      sum_non += (4 * f(x)) # Queremos evaluar cada 'x' con una i-esima posicion non\n",
        "    i = i+1\n",
        "\n",
        "  aproximacion = (h/3) * (f(a) + sum_pares + sum_non + f(b)) # de la formula general de la regla de simpson\n",
        "  print(\"El valor aproximado de la integral es: {:.5f}\".format(aproximacion))\n",
        "  return None\n",
        "\n",
        "# Se llama a la funcion --------------------------\n",
        "Regla_Simpson(function)\n"
      ],
      "metadata": {
        "colab": {
          "base_uri": "https://localhost:8080/"
        },
        "id": "YSbWKDVPhQTl",
        "outputId": "28fea301-7580-4bde-9542-836769b5feb1"
      },
      "execution_count": null,
      "outputs": [
        {
          "output_type": "stream",
          "name": "stdout",
          "text": [
            "Ingrese la funcion en terminos de x: 1+\n",
            "Ecuacion no valida.\n"
          ]
        },
        {
          "output_type": "execute_result",
          "data": {
            "text/plain": [
              "0"
            ]
          },
          "metadata": {},
          "execution_count": 56
        }
      ]
    },
    {
      "cell_type": "markdown",
      "source": [
        "# Ecuaciones diferenciales: Metodo de Euler"
      ],
      "metadata": {
        "id": "Zp_OfX5Y9lHH"
      }
    },
    {
      "cell_type": "markdown",
      "source": [
        "Fórmulas importantes:\n",
        "- $y_n = y_{n-1} + h \\times f(x_{n-1}, y_{n-1})$"
      ],
      "metadata": {
        "id": "YEVWdpA6sUlP"
      }
    },
    {
      "cell_type": "code",
      "source": [
        "# Proyecto 2: Metodos numericos\n",
        "# Rodriguez Perez Axel\n",
        "# Licenciatura en Ciencias Genomicas, semestre 2022-2\n",
        "# Objetivo: Obtener el valor de una funcion desconocida evaluada en un x dado.\n",
        "\n",
        "# LIBRERIAS -------------------------------------\n",
        "import numpy as np\n",
        "import math as mt\n",
        "from math import e\n",
        "from math import *\n",
        "from sympy import *\n",
        "import sympy as sym\n",
        "\n",
        "# DEFINICION DE LA DERIVADA DE LA FUNCION -------------------------------------\n",
        "derivada = input(\"Ingrese la derivada de la funcion en terminos de 'x' y 'y': \")\n",
        "\n",
        "def f(x,y):\n",
        "  \"\"\"\n",
        "  Declaracion de funcion\n",
        "  :param x: valor con el que se evaluara una funcion\n",
        "  \"\"\"\n",
        "  return eval(derivada)\n",
        "\n",
        "# DECLARACION DE FUNCION QUE IDENTIFICA ERRORES --------------------------\n",
        "def Errores(f):\n",
        "  \"\"\"\n",
        "  Funcion que identifica errores en ecuaciones\n",
        "  :param f: funcion a evaluar.\n",
        "  \"\"\"\n",
        "  x = sym.Symbol(\"x\")\n",
        "  y = sym.Symbol(\"y\")\n",
        "  try:\n",
        "    eval(f)\n",
        "  except ZeroDivisionError:  # Verifica que no exista una division sobre cero\n",
        "    print(\"Ecuacion invalida, tiene una division sobre cero\")\n",
        "    return 0\n",
        "  except ValueError: # Verifica que no exista una un valor no valido\n",
        "    print(\"Ecuacion invalida, tiene un valor no \")\n",
        "    return 0\n",
        "  except: # Verifica que no exista alguna otra anomalia\n",
        "    print(\"Ecuacion no valida.\")\n",
        "    return 0\n",
        "\n",
        "# DECLARACION DE LA FUNCION 'METODO_EULER' ------------------------------------\n",
        "def metodo_euler(deriv):\n",
        "  '''\n",
        "  Metodo de Euler para resolver ecuaciones diferenciales\n",
        "  :param deriv: Derivada de una ecuacion\n",
        "  '''\n",
        "  # INPUT DE CONDICIONES INICIALES\n",
        "  x0 = float(input(\"Por favor ingrese el valor inicial de x: \"))\n",
        "  y0 = float(input(\"Por favor ingrese el valor inicial de y: \"))\n",
        "  xn = float(input(\"Por favor ingrese el valor deseado de x: \"))\n",
        "  h = float(input(\"Introduzca el valor de h: \"))\n",
        "\n",
        "  while x0 < xn: # Mientras el valor de x sea menor al deseado\n",
        "    derivada_val = f(x0,y0)  # La funcion de la derivada evaluada en x0 y y0\n",
        "    yn = y0 + h*f(x0, y0) # formula general para el metodo de Euler\n",
        "    print(\"x: {:.4f} y: {:.4f} y': {:.4f}\".format(x0, y0, derivada_val))\n",
        "    y0 = yn  # yn toma el valor de la antigua y\n",
        "    x0 += h\n",
        "\n",
        "  print(\"El valor de la funcion en {} es de {:.4f}\".format(xn, yn))\n",
        "  return None\n",
        "\n",
        "# Aplicar funcion ---------------------------------\n",
        "if Errores(derivada) == 0:\n",
        "  print(\"Introduzca una funcion valida.\")\n",
        "else:\n",
        "  # Llamar a la funcion\n",
        "  metodo_euler(derivada)\n"
      ],
      "metadata": {
        "colab": {
          "base_uri": "https://localhost:8080/"
        },
        "id": "nyEGmJxn9kAB",
        "outputId": "a5ede689-405c-4b86-f97b-3c5090860653"
      },
      "execution_count": null,
      "outputs": [
        {
          "output_type": "stream",
          "name": "stdout",
          "text": [
            "Ingrese la derivada de la funcion: x+y**2\n",
            "Por favor ingrese el valor inicial de x: 0\n",
            "Por favor ingrese el valor inicial de y: 0\n",
            "Por favor ingrese el valor deseado de x: 0.2\n",
            "Introduzca el valor de h: 0.05\n",
            "x: 0.0000 y: 0.0000 y': 0.0000\n",
            "x: 0.0500 y: 0.0000 y': 0.0500\n",
            "x: 0.1000 y: 0.0025 y': 0.1000\n",
            "x: 0.1500 y: 0.0075 y': 0.1501\n",
            "El valor de la funcion en 0.2 es de 0.0150\n"
          ]
        }
      ]
    },
    {
      "cell_type": "markdown",
      "source": [
        "# Extras"
      ],
      "metadata": {
        "id": "19WeJQ0Gjxkv"
      }
    },
    {
      "cell_type": "markdown",
      "source": [
        "## Integración Numérica: Método de los trapecios (Extra)"
      ],
      "metadata": {
        "id": "AkjfaByZj0MC"
      }
    },
    {
      "cell_type": "markdown",
      "source": [
        "Fórmulas importantes:\n",
        "- $\\int^b_a f(x)dx \\approx \\frac{h}{2} [f(a) + 2 \\sum^{n-1}_{i=1} f(x) + f(b)]$\n",
        "- $h = \\frac{b-a}{n}$\n",
        "- $x_i = a + ih$"
      ],
      "metadata": {
        "id": "BKAL2I9SuFUm"
      }
    },
    {
      "cell_type": "code",
      "source": [
        "# Proyecto 2: Metodos numericos\n",
        "# Rodriguez Perez Axel\n",
        "# Licenciatura en Ciencias Genomicas, semestre 2022-2\n",
        "# Objetivo: Obtener la integral aproximada de una funcion (su area bajo la curva)\n",
        "\n",
        "# LIBRERIAS -------------------------------------\n",
        "import numpy as np\n",
        "import math as mt\n",
        "from math import e\n",
        "from math import *\n",
        "import sympy as sym\n",
        "\n",
        "# DEFINICION DE LA FUNCION -------------------------------------\n",
        "function = input(\"Ingrese la funcion en terminos de x: \")\n",
        "\n",
        "def f(x):\n",
        "  \"\"\"\"\"\n",
        "  Declaracion de funcion\n",
        "  :param x: valor con el que se evaluara una funcion\n",
        "  \"\"\"\n",
        "  return eval(function)\n",
        "\n",
        "# DECLARACION DE FUNCION QUE IDENTIFICA ERRORES --------------------------\n",
        "def Errores(f):\n",
        "  \"\"\"\n",
        "  Funcion que identifica errores en ecuaciones\n",
        "  :param f: funcion a evaluar.\n",
        "  \"\"\"\n",
        "  try:\n",
        "    eval(f)\n",
        "  except ZeroDivisionError:  # Verifica que no exista una division sobre cero\n",
        "    print(\"Ecuacion invalida, tiene una division sobre cero\")\n",
        "    return 0\n",
        "  except ValueError: # Verifica que no exista una un valor no valido\n",
        "    print(\"Ecuacion invalida, tiene un valor no \")\n",
        "    return 0\n",
        "  except:  # Verifica que no exista alguna otra anomalia\n",
        "    print(\"Ecuacion no valida.\")\n",
        "    return 0\n",
        "\n",
        "x = sym.Symbol(\"x\")\n",
        "\n",
        "# VERIFICAR ERRORES------------------------\n",
        "error = 0  # Bandera de error. Comienza apagada\n",
        "if Errores(function) == 0:\n",
        "  error = 1\n",
        "\n",
        "# DECLARACION DE LA FUNCION 'METODO_TRAPECIOS' ------------------------------------\n",
        "def metodo_trapecios(funcion, a, b, n):\n",
        "  '''\n",
        "  Metodo de los Trapecios\n",
        "  :param funcion: funcion de la cual se requiere saber la aproximacion de su integral.\n",
        "  :param a: limite inferior de la integral.\n",
        "  :param b: limite superior de la integral.\n",
        "  :param n: numero de trapecios.\n",
        "  '''\n",
        "\n",
        "  # Calculo del tamanyo de cada paso\n",
        "  h = (b-a)/n\n",
        "\n",
        "  # Almacenamos el valor de la funcion evaluada en los limites de integracion\n",
        "  integral = f(a) + f(b)\n",
        "\n",
        "  # Iterativamente se le suma el valor de la funcion evaluada en xi\n",
        "  for i in range(1,n):\n",
        "    xi = a + i*h\n",
        "    integral += 2 * f(xi)\n",
        "  integral *= (h/2)  # Valor final de la integral aproximada\n",
        "  print(\"El valor aproximado de la integral es: {:.5f}\".format(integral))\n",
        "  return None\n",
        "\n",
        "# INPUTS ---------------------------\n",
        "if error != 1:\n",
        "  # Limites de la funcion\n",
        "  a = float(input(\"Ingrese el limite inferior de la integral: \"))\n",
        "  b = float(input(\"Ingrese el limite superior de la integral: \"))\n",
        "\n",
        "  if b<=a:\n",
        "    print(\"El limite inferior de la integral debe ser menor al superior.\")\n",
        "  else:\n",
        "    # Numero de subintervalos\n",
        "    n = int(input(\"Ingrese el numero de trapecios con los que se desea aproximar: \"))\n",
        "    if type(n) != int:\n",
        "      print(\"Por favor introduzca un numero entero.\")\n",
        "    else:\n",
        "      # Llamar a la funcion\n",
        "      metodo_trapecios(function, a, b, n)\n",
        "else:\n",
        "  print(\"Por favor introduza una funcion valida.\")\n"
      ],
      "metadata": {
        "id": "Aaz6oMKIjwzW"
      },
      "execution_count": null,
      "outputs": []
    },
    {
      "cell_type": "markdown",
      "source": [
        "## Integración numérica: Integración de Romberg (Extra)"
      ],
      "metadata": {
        "id": "vU6HAewVkBnU"
      }
    },
    {
      "cell_type": "markdown",
      "source": [
        "Fórmulas importantes:\n",
        "- $h_k = \\frac{b-a}{2^{k-1}}$\n",
        "- $R_{1,1} = \\frac{b-a}{2}[f(a) + f(b)]$\n",
        "- $R_{k,1} = \\frac{1}{2}[R_{k-1,1} + h_{k-1} \\sum^{2^{k-2}}_{i=1}(f[a + (2i - 1)h_k)]$\n",
        "- $R_{k,j} = R_{k, j-1} + \\frac{R_{k, j-1} - R_{k-1, j-1}}{4^{j-1} - 1}$"
      ],
      "metadata": {
        "id": "dlm_ZshpuuwC"
      }
    },
    {
      "cell_type": "code",
      "source": [
        "# Proyecto 2: Metodos numericos\n",
        "# Rodriguez Perez Axel\n",
        "# Licenciatura en Ciencias Genomicas, semestre 2022-2\n",
        "# Objetivo: Obtener la integral aproximada de una funcion (su area bajo la curva)\n",
        "\n",
        "# LIBRERIAS -------------------------------------\n",
        "import numpy as np\n",
        "import math as mt\n",
        "from math import e\n",
        "from math import *\n",
        "from sympy import *\n",
        "import sympy as sym\n",
        "\n",
        "# DEFINICION DE LA FUNCION -------------------------------------\n",
        "function = input(\"Ingrese la funcion en terminos de x: \")\n",
        "\n",
        "def f(x):\n",
        "  \"\"\"\"\"\n",
        "  Declaracion de funcion\n",
        "  :param x: valor con el que se evaluara una funcion\n",
        "  \"\"\"\n",
        "  return eval(function)\n",
        "\n",
        "# DECLARACION DE FUNCION QUE IDENTIFICA ERRORES --------------------------\n",
        "def Errores(f):\n",
        "  \"\"\"\n",
        "  Funcion que identifica errores en ecuaciones\n",
        "  :param f: funcion a evaluar.\n",
        "  \"\"\"\n",
        "  x = sym.Symbol(\"x\")\n",
        "  try:\n",
        "    eval(f)\n",
        "  except ZeroDivisionError:  # Verifica que no exista una division sobre cero\n",
        "    print(\"Ecuacion invalida, tiene una division sobre cero\")\n",
        "    return 0\n",
        "  except ValueError: # Verifica que no exista una un valor no valido\n",
        "    print(\"Ecuacion invalida, tiene un valor no \")\n",
        "    return 0\n",
        "  except:  # Verifica que no exista alguna otra anomalia\n",
        "    print(\"Ecuacion no valida.\")\n",
        "    return 0\n",
        "\n",
        "# DECLARACION DE LA FUNCION 'METODO_TRAPECIOS' ------------------------------------\n",
        "def integracion_rom(funcion, a, b, n):\n",
        "  '''\n",
        "  Metodo de integracion de Romberg\n",
        "  :param funcion: funcion de la cual se requiere saber la aproximacion de su integral.\n",
        "  :param a: limite inferior de la integral.\n",
        "  :param b: limite superior de la integral.\n",
        "  :param n: numero de pasos con los que se desea hacer el calculo.\n",
        "  '''\n",
        "  # Creacion de matriz vacia de nxn --\n",
        "  matriz = np.zeros((n,n))\n",
        "\n",
        "  # PROCESO --\n",
        "  hk = (b-a) / 2**1-1\n",
        "  for k in range(1, n+1):\n",
        "    hk2 = hk  # hk2 tomara el valor de lo que en la formula seria h_{k-1}\n",
        "    hk = (b-a) / 2**(k-1)\n",
        "    sum = 0  # Inicializamos la variable sum cada que k aumenta en +1\n",
        "    for j in range(1, n+1):\n",
        "      if j <= k:\n",
        "        if k == 1 and j == 1:  # Si 'k' y 'j' son igual a 1\n",
        "          R11 = ((b-a)/2) * (f(a) + f(b))  # Aplicar la formula de R_{1,1}\n",
        "          matriz[k-1, j-1] = R11  # Se almacena ese valor en la matriz\n",
        "          print(\"R11 = {:.4f}\".format(R11))\n",
        "        if j == 1 and k!=1:  # Si solo 'k' es diferente de 1\n",
        "          for i in range(1, (2**(k-2))+1):\n",
        "            sum = sum + hk2*(f(a + (2*i - 1)*hk)) # La suma de la formula que va desde i=1 hasta i=2^{k-1}\n",
        "          R11 = matriz[k-2, 0] # R11 toma el valor de R_{k-1, 1}\n",
        "          Rk1 = (R11 + sum)/2\n",
        "          matriz[k-1, j-1] = Rk1  # Se almacena el valor en la matriz\n",
        "          print(\"R{}1 = {:.4f}\".format(k, Rk1))\n",
        "        else:\n",
        "          if j != 1 and k!=1:  # Si 'j' y 'k' son diferentes de 1\n",
        "            Rk1 = matriz[k-1, j-2]  # Rk1 toma el valor de R_{k, j-1}\n",
        "            R11 = matriz[k-2, j-2]  # R11 toma el valor de R_{k-1, j-1}\n",
        "            Rkj = Rk1 + ((Rk1 - R11)/(4**(j-1) - 1))\n",
        "            matriz[k-1, j-1] = Rkj  # Se almacena el valor en la matriz\n",
        "            print(\"R{}{} = {:.4f}\" .format(k, j, Rkj))\n",
        "\n",
        "  print(\"La forma de la matriz es: \")\n",
        "  print(matriz)\n",
        "  print(\"La integral aproximada es {:.4f}\". format(Rkj))\n",
        "\n",
        "# LLAMADO DE LA FUNCION -----------------------\n",
        "if Errores(function) != 0:  # Si la ecuacion no tiene ningun error\n",
        "  # INPUTS\n",
        "  a = float(input(\"Ingrese el limite inferior de la integral: \"))\n",
        "  b = float(input(\"Ingrese el limite superior de la integral: \"))\n",
        "  if b<=a:  # 'b' no puede ser menor o igual a 'a'\n",
        "    print(\"El limite inferior de la integral debe ser menor al superior.\")\n",
        "  else:\n",
        "    n = int(input(\"Introduzca el numero de pasos maximos: \"))\n",
        "    # Llamar a la funcion\n",
        "    integracion_rom(function, a, b, n)  # aplicar el metodo de integracion de rombreg\n",
        "else:\n",
        "  print(\"Introduzca una ecuacion correcta.\")\n",
        "\n"
      ],
      "metadata": {
        "id": "Qux66jRZkCh6"
      },
      "execution_count": null,
      "outputs": []
    },
    {
      "cell_type": "markdown",
      "source": [
        "## Ecuaciones diferenciales: Método de Runge Kutta de orden 4 (Extra)"
      ],
      "metadata": {
        "id": "SR9HXGoGkP54"
      }
    },
    {
      "cell_type": "markdown",
      "source": [
        "Fórmulas importantes:\n",
        "- $x_i = x_{i-1}+h$\n",
        "- $k_1 = f(x_i, y_i)$\n",
        "- $k_2 = f(x_i = \\frac{1}{2}h, y_i + \\frac{1}{2}k_1h)$\n",
        "- $k_3 = f(x_i + \\frac{1}{2}h, y_i + \\frac{1}{2}k_2h)$\n",
        "- $k_4 = f(x_i + h, y_i + k_3h)$\n",
        "- $y_{n+1} = y_n + \\frac{h}{6} (k_1 + 2k_2 + 2k_3 + k_4)$"
      ],
      "metadata": {
        "id": "0gOBy5cpxu0r"
      }
    },
    {
      "cell_type": "code",
      "source": [
        "# Proyecto 2: Metodos numericos\n",
        "# Rodriguez Perez Axel\n",
        "# Licenciatura en Ciencias Genomicas, semestre 2022-2\n",
        "# Objetivo: Obtener el valor de una funcion desconocida evaluada en un x dado.\n",
        "\n",
        "# LIBRERIAS -------------------------------------\n",
        "import numpy as np\n",
        "import math as mt\n",
        "from math import e\n",
        "from math import *\n",
        "import sympy as sym\n",
        "\n",
        "# DEFINICION DE LA DERIVADA DE LA FUNCION -------------------------------------\n",
        "derivada = input(\"Ingrese la derivada de la funcion: \")\n",
        "\n",
        "def f(x,y):\n",
        "  \"\"\"\n",
        "  Declaracion de funcion\n",
        "  :param x: valor con el que se evaluara una funcion\n",
        "  \"\"\"\n",
        "  return eval(derivada)\n",
        "\n",
        "# DECLARACION DE FUNCION QUE IDENTIFICA ERRORES --------------------------\n",
        "def Errores(f):\n",
        "  \"\"\"\n",
        "  Funcion que identifica errores en ecuaciones\n",
        "  :param f: funcion a evaluar.\n",
        "  \"\"\"\n",
        "  x = sym.Symbol(\"x\")\n",
        "  y = sym.Symbol(\"y\")\n",
        "  try:\n",
        "    eval(f)\n",
        "  except ZeroDivisionError:  # Verifica que no exista una division sobre cero\n",
        "    print(\"Ecuacion invalida, tiene una division sobre cero\")\n",
        "    return 0\n",
        "  except ValueError: # Verifica que no exista una un valor no valido\n",
        "    print(\"Ecuacion invalida, tiene un valor no \")\n",
        "    return 0\n",
        "  except: # Verifica que no exista alguna otra anomalia\n",
        "    print(\"Ecuacion no valida.\")\n",
        "    return 0\n",
        "\n",
        "# DECLARACION DE LA FUNCION 'METODO_RUNGEKUTTA' ------------------------------------\n",
        "def metodo_RungeKutta(deriv):\n",
        "\n",
        "  #INPUT DE CONDICIONES INICIALES --------------------------------------\n",
        "  h = float(input(\"Por favor ingrese el valor de h: \"))\n",
        "  x0 = float(input(\"Introduzca el valor inicial de x: \"))\n",
        "  y0 = float(input(\"Introduzca el valor inicial de y: \"))\n",
        "  xn = float(input(\"Introduzca el valor de x con el que se desea evaluar la aproximacion de la funcion: \"))\n",
        "\n",
        "  contador = 0  # Contador de iteraciones\n",
        "  while x0<xn:\n",
        "    print((\"x{}: {:.4f} y{}: {:.4f}\".format(contador, x0, contador, y0)))\n",
        "    k1 = f(x0, y0)\n",
        "    k2 = f(x0 +(0.5*h), y0 + (0.5*k1*h))\n",
        "    k3 = f(x0 + (0.5*h), y0 + (0.5*k2*h))\n",
        "    k4 = f(x0 + h, y0 + (k3*h))\n",
        "    x0 = x0 + h\n",
        "    yn = y0 + (h/6)*(k1 + 2*k2 + 2*k3 + k4)\n",
        "    y0 = yn # Se sustituye el valor de y0 por yn para que este pueda utilizarse en el siguiente ciclo\n",
        "    contador+=1\n",
        "  print(\"La solucion para la funcion evaluada en {} es {:.5f}\".format(xn, y0))\n",
        "\n",
        "if Errores(derivada) == 0:  # Si la derivada introducida contiene errores\n",
        "  print(\"Por favor introduzca una funcion valida.\")\n",
        "else:\n",
        "  # Llamar a la funcion\n",
        "  metodo_RungeKutta(derivada)\n"
      ],
      "metadata": {
        "id": "t_S4zfqkkQj-"
      },
      "execution_count": null,
      "outputs": []
    }
  ]
}